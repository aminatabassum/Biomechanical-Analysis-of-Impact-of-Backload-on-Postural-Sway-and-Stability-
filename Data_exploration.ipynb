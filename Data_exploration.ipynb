{
 "cells": [
  {
   "cell_type": "code",
   "execution_count": 1,
   "metadata": {},
   "outputs": [],
   "source": [
    "import numpy as np \n",
    "import matplotlib.pyplot as plt\n",
    "import pandas as pd \n"
   ]
  },
  {
   "cell_type": "code",
   "execution_count": 2,
   "metadata": {},
   "outputs": [],
   "source": [
    "walking_static=pd.read_excel('Walking static trial.xlsx')\n",
    "walking=pd.read_excel('Walking trial.xlsx')\n",
    "backpack_static=pd.read_excel('Backpack static trial.xlsx')\n",
    "backpack_trial=pd.read_excel('Backpack trial.xlsx')\n",
    "sidepack_static=pd.read_excel('Side pack static trial.xlsx')\n",
    "sidepack_trial=pd.read_excel('Side pack trial.xlsx')\n"
   ]
  },
  {
   "cell_type": "code",
   "execution_count": 5,
   "metadata": {},
   "outputs": [
    {
     "name": "stdout",
     "output_type": "stream",
     "text": [
      "walking_static: (406, 259)\n",
      "walking: (196, 259)\n",
      "backpack_static: (410, 259)\n",
      "backpack_trial: (212, 259)\n",
      "sidepack_static: (486, 259)\n",
      "sidepack_trial: (210, 259)\n"
     ]
    }
   ],
   "source": [
    "print('walking_static:',walking_static.shape)\n",
    "print('walking:',walking.shape)\n",
    "print('backpack_static:',backpack_static.shape)\n",
    "print('backpack_trial:',backpack_trial.shape)\n",
    "print('sidepack_static:',sidepack_static.shape)\n",
    "print('sidepack_trial:',sidepack_trial.shape)\n"
   ]
  },
  {
   "cell_type": "markdown",
   "metadata": {},
   "source": [
    "# Walking Static"
   ]
  },
  {
   "cell_type": "code",
   "execution_count": 6,
   "metadata": {},
   "outputs": [],
   "source": [
    "clean_walking_static=walking_static.dropna(how='all').reset_index(drop=True)\n",
    "clean_walking_static=clean_walking_static.dropna(axis=1,how='all').reset_index(drop=True)"
   ]
  },
  {
   "cell_type": "code",
   "execution_count": 7,
   "metadata": {},
   "outputs": [
    {
     "data": {
      "text/plain": [
       "(406, 259)"
      ]
     },
     "execution_count": 7,
     "metadata": {},
     "output_type": "execute_result"
    }
   ],
   "source": [
    "walking_static.shape"
   ]
  },
  {
   "cell_type": "code",
   "execution_count": 8,
   "metadata": {},
   "outputs": [
    {
     "data": {
      "text/plain": [
       "(401, 259)"
      ]
     },
     "execution_count": 8,
     "metadata": {},
     "output_type": "execute_result"
    }
   ],
   "source": [
    "clean_walking_static.shape"
   ]
  },
  {
   "cell_type": "code",
   "execution_count": 9,
   "metadata": {},
   "outputs": [
    {
     "data": {
      "text/plain": [
       "(25, 259)"
      ]
     },
     "execution_count": 9,
     "metadata": {},
     "output_type": "execute_result"
    }
   ],
   "source": [
    "anthropometric_walking_static=clean_walking_static.iloc[0:25,:]\n",
    "anthropometric_walking_static.shape"
   ]
  },
  {
   "cell_type": "code",
   "execution_count": 10,
   "metadata": {},
   "outputs": [
    {
     "data": {
      "text/html": [
       "<div>\n",
       "<style scoped>\n",
       "    .dataframe tbody tr th:only-of-type {\n",
       "        vertical-align: middle;\n",
       "    }\n",
       "\n",
       "    .dataframe tbody tr th {\n",
       "        vertical-align: top;\n",
       "    }\n",
       "\n",
       "    .dataframe thead th {\n",
       "        text-align: right;\n",
       "    }\n",
       "</style>\n",
       "<table border=\"1\" class=\"dataframe\">\n",
       "  <thead>\n",
       "    <tr style=\"text-align: right;\">\n",
       "      <th></th>\n",
       "      <th>KIN</th>\n",
       "      <th>2</th>\n",
       "      <th>Unnamed: 2</th>\n",
       "      <th>Unnamed: 3</th>\n",
       "      <th>Unnamed: 4</th>\n",
       "      <th>Unnamed: 5</th>\n",
       "      <th>Unnamed: 6</th>\n",
       "      <th>Unnamed: 7</th>\n",
       "      <th>Unnamed: 8</th>\n",
       "      <th>Unnamed: 9</th>\n",
       "      <th>...</th>\n",
       "      <th>Unnamed: 249</th>\n",
       "      <th>Unnamed: 250</th>\n",
       "      <th>Unnamed: 251</th>\n",
       "      <th>Unnamed: 252</th>\n",
       "      <th>Unnamed: 253</th>\n",
       "      <th>Unnamed: 254</th>\n",
       "      <th>Unnamed: 255</th>\n",
       "      <th>Unnamed: 256</th>\n",
       "      <th>Unnamed: 257</th>\n",
       "      <th>Unnamed: 258</th>\n",
       "    </tr>\n",
       "  </thead>\n",
       "  <tbody>\n",
       "    <tr>\n",
       "      <th>0</th>\n",
       "      <td>NumSegments</td>\n",
       "      <td>NumFrames</td>\n",
       "      <td>FrameRate</td>\n",
       "      <td>AxisOfGravity</td>\n",
       "      <td>ScaleFactor</td>\n",
       "      <td>NaN</td>\n",
       "      <td>NaN</td>\n",
       "      <td>NaN</td>\n",
       "      <td>NaN</td>\n",
       "      <td>NaN</td>\n",
       "      <td>...</td>\n",
       "      <td>NaN</td>\n",
       "      <td>NaN</td>\n",
       "      <td>NaN</td>\n",
       "      <td>NaN</td>\n",
       "      <td>NaN</td>\n",
       "      <td>NaN</td>\n",
       "      <td>NaN</td>\n",
       "      <td>NaN</td>\n",
       "      <td>NaN</td>\n",
       "      <td>NaN</td>\n",
       "    </tr>\n",
       "    <tr>\n",
       "      <th>1</th>\n",
       "      <td>17</td>\n",
       "      <td>183</td>\n",
       "      <td>60</td>\n",
       "      <td>Z</td>\n",
       "      <td>1</td>\n",
       "      <td>NaN</td>\n",
       "      <td>NaN</td>\n",
       "      <td>NaN</td>\n",
       "      <td>NaN</td>\n",
       "      <td>NaN</td>\n",
       "      <td>...</td>\n",
       "      <td>NaN</td>\n",
       "      <td>NaN</td>\n",
       "      <td>NaN</td>\n",
       "      <td>NaN</td>\n",
       "      <td>NaN</td>\n",
       "      <td>NaN</td>\n",
       "      <td>NaN</td>\n",
       "      <td>NaN</td>\n",
       "      <td>NaN</td>\n",
       "      <td>NaN</td>\n",
       "    </tr>\n",
       "    <tr>\n",
       "      <th>2</th>\n",
       "      <td>[Events(4)]</td>\n",
       "      <td>NaN</td>\n",
       "      <td>NaN</td>\n",
       "      <td>NaN</td>\n",
       "      <td>NaN</td>\n",
       "      <td>NaN</td>\n",
       "      <td>NaN</td>\n",
       "      <td>NaN</td>\n",
       "      <td>NaN</td>\n",
       "      <td>NaN</td>\n",
       "      <td>...</td>\n",
       "      <td>NaN</td>\n",
       "      <td>NaN</td>\n",
       "      <td>NaN</td>\n",
       "      <td>NaN</td>\n",
       "      <td>NaN</td>\n",
       "      <td>NaN</td>\n",
       "      <td>NaN</td>\n",
       "      <td>NaN</td>\n",
       "      <td>NaN</td>\n",
       "      <td>NaN</td>\n",
       "    </tr>\n",
       "    <tr>\n",
       "      <th>3</th>\n",
       "      <td>LHS</td>\n",
       "      <td>NaN</td>\n",
       "      <td>NaN</td>\n",
       "      <td>NaN</td>\n",
       "      <td>NaN</td>\n",
       "      <td>NaN</td>\n",
       "      <td>NaN</td>\n",
       "      <td>NaN</td>\n",
       "      <td>NaN</td>\n",
       "      <td>NaN</td>\n",
       "      <td>...</td>\n",
       "      <td>NaN</td>\n",
       "      <td>NaN</td>\n",
       "      <td>NaN</td>\n",
       "      <td>NaN</td>\n",
       "      <td>NaN</td>\n",
       "      <td>NaN</td>\n",
       "      <td>NaN</td>\n",
       "      <td>NaN</td>\n",
       "      <td>NaN</td>\n",
       "      <td>NaN</td>\n",
       "    </tr>\n",
       "    <tr>\n",
       "      <th>4</th>\n",
       "      <td>RHS</td>\n",
       "      <td>NaN</td>\n",
       "      <td>NaN</td>\n",
       "      <td>NaN</td>\n",
       "      <td>NaN</td>\n",
       "      <td>NaN</td>\n",
       "      <td>NaN</td>\n",
       "      <td>NaN</td>\n",
       "      <td>NaN</td>\n",
       "      <td>NaN</td>\n",
       "      <td>...</td>\n",
       "      <td>NaN</td>\n",
       "      <td>NaN</td>\n",
       "      <td>NaN</td>\n",
       "      <td>NaN</td>\n",
       "      <td>NaN</td>\n",
       "      <td>NaN</td>\n",
       "      <td>NaN</td>\n",
       "      <td>NaN</td>\n",
       "      <td>NaN</td>\n",
       "      <td>NaN</td>\n",
       "    </tr>\n",
       "  </tbody>\n",
       "</table>\n",
       "<p>5 rows × 259 columns</p>\n",
       "</div>"
      ],
      "text/plain": [
       "           KIN          2 Unnamed: 2     Unnamed: 3   Unnamed: 4 Unnamed: 5  \\\n",
       "0  NumSegments  NumFrames  FrameRate  AxisOfGravity  ScaleFactor        NaN   \n",
       "1           17        183         60              Z            1        NaN   \n",
       "2  [Events(4)]        NaN        NaN            NaN          NaN        NaN   \n",
       "3          LHS        NaN        NaN            NaN          NaN        NaN   \n",
       "4          RHS        NaN        NaN            NaN          NaN        NaN   \n",
       "\n",
       "  Unnamed: 6 Unnamed: 7 Unnamed: 8 Unnamed: 9  ... Unnamed: 249 Unnamed: 250  \\\n",
       "0        NaN        NaN        NaN        NaN  ...          NaN          NaN   \n",
       "1        NaN        NaN        NaN        NaN  ...          NaN          NaN   \n",
       "2        NaN        NaN        NaN        NaN  ...          NaN          NaN   \n",
       "3        NaN        NaN        NaN        NaN  ...          NaN          NaN   \n",
       "4        NaN        NaN        NaN        NaN  ...          NaN          NaN   \n",
       "\n",
       "  Unnamed: 251 Unnamed: 252 Unnamed: 253 Unnamed: 254 Unnamed: 255  \\\n",
       "0          NaN          NaN          NaN          NaN          NaN   \n",
       "1          NaN          NaN          NaN          NaN          NaN   \n",
       "2          NaN          NaN          NaN          NaN          NaN   \n",
       "3          NaN          NaN          NaN          NaN          NaN   \n",
       "4          NaN          NaN          NaN          NaN          NaN   \n",
       "\n",
       "  Unnamed: 256 Unnamed: 257 Unnamed: 258  \n",
       "0          NaN          NaN          NaN  \n",
       "1          NaN          NaN          NaN  \n",
       "2          NaN          NaN          NaN  \n",
       "3          NaN          NaN          NaN  \n",
       "4          NaN          NaN          NaN  \n",
       "\n",
       "[5 rows x 259 columns]"
      ]
     },
     "execution_count": 10,
     "metadata": {},
     "output_type": "execute_result"
    }
   ],
   "source": [
    "anthropometric_walking_static=anthropometric_walking_static.iloc[5:].reset_index(drop=True)\n",
    "anthropometric_walking_static.head()"
   ]
  },
  {
   "cell_type": "code",
   "execution_count": 11,
   "metadata": {},
   "outputs": [],
   "source": [
    "anthropometric_walking_static=anthropometric_walking_static.dropna(axis=1,how='all').reset_index(drop=True)\n",
    "anthropometric_walking_static=anthropometric_walking_static.dropna(how='all').reset_index(drop=True)\n",
    "anthropometric_walking_static=anthropometric_walking_static.fillna(0)\n",
    "anthropometric_walking_static=anthropometric_walking_static.drop(index=[2,3,4,5,6,7,8]).reset_index(drop=True)\n",
    "anthropometric_walking_static.to_csv('anthropometric_walking_static.csv',index=False)"
   ]
  },
  {
   "cell_type": "code",
   "execution_count": 12,
   "metadata": {},
   "outputs": [],
   "source": [
    "# extract data from the walking static trial for all body segments\n",
    "data_walking_static=clean_walking_static.iloc[26:212].reset_index(drop=True)"
   ]
  },
  {
   "cell_type": "code",
   "execution_count": 13,
   "metadata": {},
   "outputs": [],
   "source": [
    "data_walking_static=data_walking_static.dropna(axis=1,how='all').reset_index(drop=True)\n",
    "data_walking_static=data_walking_static.dropna(how='all').reset_index(drop=True)\n",
    "data_walking_static=data_walking_static.fillna(0)\n"
   ]
  },
  {
   "cell_type": "code",
   "execution_count": 14,
   "metadata": {},
   "outputs": [],
   "source": [
    "for i in range(1, len(data_walking_static.columns)):\n",
    "    if data_walking_static.iloc[0, i] == 0:\n",
    "        data_walking_static.iloc[0, i] = data_walking_static.iloc[0, i-1]"
   ]
  },
  {
   "cell_type": "code",
   "execution_count": 15,
   "metadata": {},
   "outputs": [],
   "source": [
    "new_header = data_walking_static.iloc[:3].apply(lambda x: '_'.join(x.dropna().astype(str)), axis=0)\n",
    "data_walking_static.columns = new_header\n",
    "data_walking_static = data_walking_static.drop(index=[0, 1, 2]).reset_index(drop=True)\n",
    "data_walking_static.to_csv('data_walking_static.csv', index=False)\n",
    "\n"
   ]
  },
  {
   "cell_type": "code",
   "execution_count": 16,
   "metadata": {},
   "outputs": [],
   "source": [
    "# extract ground reaction forces data from the walking static trial for left and right foot \n",
    "GRF_walking_static=clean_walking_static.iloc[217:,:]\n",
    "GRF_walking_static=GRF_walking_static.dropna(axis=1,how='all').reset_index(drop=True)\n",
    "GRF_walking_static=GRF_walking_static.dropna(how='all').reset_index(drop=True)\n",
    "new_header=GRF_walking_static.iloc[0]\n",
    "GRF_walking_static.columns=new_header\n",
    "GRF_walking_static=GRF_walking_static.drop(index=[0]).reset_index(drop=True)\n",
    "GRF_walking_static=GRF_walking_static.dropna(axis=1,how='all').fillna(0)\n",
    "GRF_walking_static.to_csv('GRF_walking_static.csv',index=False)\n"
   ]
  },
  {
   "cell_type": "markdown",
   "metadata": {},
   "source": [
    "# Walking Trial "
   ]
  },
  {
   "cell_type": "code",
   "execution_count": 17,
   "metadata": {},
   "outputs": [],
   "source": [
    "clean_walking=walking.dropna(how='all').reset_index(drop=True)\n",
    "clean_walking=clean_walking.dropna(axis=1,how='all').reset_index(drop=True)"
   ]
  },
  {
   "cell_type": "code",
   "execution_count": 18,
   "metadata": {},
   "outputs": [
    {
     "name": "stdout",
     "output_type": "stream",
     "text": [
      "(196, 259)\n",
      "(191, 259)\n"
     ]
    }
   ],
   "source": [
    "print(walking.shape)\n",
    "print(clean_walking.shape)"
   ]
  },
  {
   "cell_type": "code",
   "execution_count": 19,
   "metadata": {},
   "outputs": [
    {
     "data": {
      "text/plain": [
       "(31, 259)"
      ]
     },
     "execution_count": 19,
     "metadata": {},
     "output_type": "execute_result"
    }
   ],
   "source": [
    "anthropometric_walking=clean_walking.iloc[0:31,:]\n",
    "anthropometric_walking.shape"
   ]
  },
  {
   "cell_type": "code",
   "execution_count": 20,
   "metadata": {},
   "outputs": [
    {
     "data": {
      "text/plain": [
       "(26, 259)"
      ]
     },
     "execution_count": 20,
     "metadata": {},
     "output_type": "execute_result"
    }
   ],
   "source": [
    "anthropometric_walking=anthropometric_walking.iloc[5:].reset_index(drop=True)\n",
    "anthropometric_walking.shape"
   ]
  },
  {
   "cell_type": "code",
   "execution_count": 21,
   "metadata": {},
   "outputs": [],
   "source": [
    "anthropometric_walking=anthropometric_walking.dropna(axis=1,how='all').reset_index(drop=True)\n",
    "anthropometric_walking=anthropometric_walking.dropna(how='all').reset_index(drop=True)\n",
    "anthropometric_walking=anthropometric_walking.fillna(0)\n",
    "anthropometric_walking=anthropometric_walking.drop(index=[2,3,4,5,6,7,8,9,10,11,12,13,14]).reset_index(drop=True)\n",
    "anthropometric_walking.to_csv('anthropometric_walking.csv',index=False)"
   ]
  },
  {
   "cell_type": "code",
   "execution_count": 22,
   "metadata": {},
   "outputs": [],
   "source": [
    "# extract data from the walking static trial for all body segments\n",
    "data_walking=clean_walking.iloc[32:110].reset_index(drop=True)"
   ]
  },
  {
   "cell_type": "code",
   "execution_count": 23,
   "metadata": {},
   "outputs": [],
   "source": [
    "data_walking=data_walking.dropna(axis=1,how='all').reset_index(drop=True)\n",
    "data_walking=data_walking.dropna(how='all').reset_index(drop=True)\n",
    "data_walking=data_walking.fillna(0)\n"
   ]
  },
  {
   "cell_type": "code",
   "execution_count": 24,
   "metadata": {},
   "outputs": [],
   "source": [
    "for i in range(1, len(data_walking.columns)):\n",
    "    if data_walking.iloc[0, i] == 0:\n",
    "        data_walking.iloc[0, i] = data_walking.iloc[0, i-1]"
   ]
  },
  {
   "cell_type": "code",
   "execution_count": 25,
   "metadata": {},
   "outputs": [],
   "source": [
    "new_header = data_walking.iloc[:3].apply(lambda x: '_'.join(x.dropna().astype(str)), axis=0)\n",
    "data_walking.columns = new_header\n",
    "data_walking = data_walking.drop(index=[0, 1, 2]).reset_index(drop=True)\n",
    "data_walking.to_csv('data_walking.csv', index=False)\n",
    "\n"
   ]
  },
  {
   "cell_type": "code",
   "execution_count": 26,
   "metadata": {},
   "outputs": [],
   "source": [
    "# extract ground reaction forces data from the walking static trial for left and right foot \n",
    "GRF_walking=clean_walking.iloc[115:,:]\n",
    "GRF_walking=GRF_walking.dropna(axis=1,how='all').reset_index(drop=True)\n",
    "GRF_walking=GRF_walking.dropna(how='all').reset_index(drop=True)\n",
    "new_header=GRF_walking.iloc[0]\n",
    "GRF_walking.columns=new_header\n",
    "GRF_walking=GRF_walking.drop(index=[0]).reset_index(drop=True)\n",
    "GRF_walking=GRF_walking.dropna(axis=1,how='all').fillna(0)\n",
    "GRF_walking.to_csv('GRF_walking.csv',index=False)\n"
   ]
  },
  {
   "cell_type": "markdown",
   "metadata": {},
   "source": [
    "# Backpack Static "
   ]
  },
  {
   "cell_type": "code",
   "execution_count": 3,
   "metadata": {},
   "outputs": [],
   "source": [
    "clean_backpack_static=backpack_static.dropna(how='all').reset_index(drop=True)\n",
    "clean_backpack_static=clean_backpack_static.dropna(axis=1,how='all').reset_index(drop=True)"
   ]
  },
  {
   "cell_type": "code",
   "execution_count": 4,
   "metadata": {},
   "outputs": [
    {
     "name": "stdout",
     "output_type": "stream",
     "text": [
      "(410, 259)\n",
      "(405, 259)\n"
     ]
    }
   ],
   "source": [
    "print(backpack_static.shape)\n",
    "print(clean_backpack_static.shape)"
   ]
  },
  {
   "cell_type": "code",
   "execution_count": 5,
   "metadata": {},
   "outputs": [
    {
     "data": {
      "text/plain": [
       "(31, 259)"
      ]
     },
     "execution_count": 5,
     "metadata": {},
     "output_type": "execute_result"
    }
   ],
   "source": [
    "anthropometric_backpack_static=clean_backpack_static.iloc[0:31,:]\n",
    "anthropometric_backpack_static.shape"
   ]
  },
  {
   "cell_type": "code",
   "execution_count": 6,
   "metadata": {},
   "outputs": [
    {
     "data": {
      "text/plain": [
       "(26, 259)"
      ]
     },
     "execution_count": 6,
     "metadata": {},
     "output_type": "execute_result"
    }
   ],
   "source": [
    "anthropometric_backpack_static=anthropometric_backpack_static.iloc[5:].reset_index(drop=True)\n",
    "anthropometric_backpack_static.shape"
   ]
  },
  {
   "cell_type": "code",
   "execution_count": 31,
   "metadata": {},
   "outputs": [],
   "source": [
    "anthropometric_backpack_static=anthropometric_backpack_static.dropna(axis=1,how='all').reset_index(drop=True)\n",
    "anthropometric_backpack_static=anthropometric_backpack_static.dropna(how='all').reset_index(drop=True)\n",
    "anthropometric_backpack_static=anthropometric_backpack_static.fillna(0)\n",
    "anthropometric_backpack_static=anthropometric_backpack_static.drop(index=[2,3,4,5,6,7,8,9,10,11,12,13,14]).reset_index(drop=True)\n",
    "anthropometric_backpack_static.to_csv('anthropometric_backpack_static.csv',index=False)"
   ]
  },
  {
   "cell_type": "code",
   "execution_count": 32,
   "metadata": {},
   "outputs": [],
   "source": [
    "# extract data from the walking static trial for all body segments\n",
    "data_backpack_static=clean_backpack_static.iloc[32:217].reset_index(drop=True)"
   ]
  },
  {
   "cell_type": "code",
   "execution_count": 33,
   "metadata": {},
   "outputs": [],
   "source": [
    "data_backpack_static=data_backpack_static.dropna(axis=1,how='all').reset_index(drop=True)\n",
    "data_backpack_static=data_backpack_static.dropna(how='all').reset_index(drop=True)\n",
    "data_backpack_static=data_backpack_static.fillna(0)\n"
   ]
  },
  {
   "cell_type": "code",
   "execution_count": 34,
   "metadata": {},
   "outputs": [],
   "source": [
    "for i in range(1, len(data_backpack_static.columns)):\n",
    "    if data_backpack_static.iloc[0, i] == 0:\n",
    "        data_backpack_static.iloc[0, i] = data_backpack_static.iloc[0, i-1]"
   ]
  },
  {
   "cell_type": "code",
   "execution_count": 35,
   "metadata": {},
   "outputs": [],
   "source": [
    "new_header = data_backpack_static.iloc[:3].apply(lambda x: '_'.join(x.dropna().astype(str)), axis=0)\n",
    "data_backpack_static.columns = new_header\n",
    "data_backpack_static = data_backpack_static.drop(index=[0, 1, 2]).reset_index(drop=True)\n",
    "data_backpack_static.to_csv('data_backpack_static.csv', index=False)\n",
    "\n"
   ]
  },
  {
   "cell_type": "code",
   "execution_count": 12,
   "metadata": {},
   "outputs": [],
   "source": [
    "# extract ground reaction forces data from the walking static trial for left and right foot \n",
    "GRF_backpack_static=clean_backpack_static.iloc[222:,:]\n",
    "GRF_backpack_static=GRF_backpack_static.dropna(axis=1,how='all').reset_index(drop=True)\n",
    "GRF_backpack_static=GRF_backpack_static.dropna(how='all').reset_index(drop=True)\n",
    "new_header=GRF_backpack_static.iloc[0]\n",
    "GRF_backpack_static.columns=new_header\n",
    "GRF_backpack_static=GRF_backpack_static.drop(index=[0]).reset_index(drop=True)\n",
    "GRF_backpack_static=GRF_backpack_static.dropna(axis=1,how='all').fillna(0)\n",
    "GRF_backpack_static.to_csv('GRF_backpack_static.csv',index=False)\n"
   ]
  },
  {
   "cell_type": "markdown",
   "metadata": {},
   "source": [
    "# Backpack Walking "
   ]
  },
  {
   "cell_type": "code",
   "execution_count": 37,
   "metadata": {},
   "outputs": [],
   "source": [
    "clean_backpack_trial=backpack_trial.dropna(how='all').reset_index(drop=True)\n",
    "clean_backpack_trial=clean_backpack_trial.dropna(axis=1,how='all').reset_index(drop=True)"
   ]
  },
  {
   "cell_type": "code",
   "execution_count": 38,
   "metadata": {},
   "outputs": [
    {
     "name": "stdout",
     "output_type": "stream",
     "text": [
      "(212, 259)\n",
      "(207, 259)\n"
     ]
    }
   ],
   "source": [
    "print(backpack_trial.shape)\n",
    "print(clean_backpack_trial.shape)"
   ]
  },
  {
   "cell_type": "code",
   "execution_count": 39,
   "metadata": {},
   "outputs": [
    {
     "data": {
      "text/plain": [
       "(31, 259)"
      ]
     },
     "execution_count": 39,
     "metadata": {},
     "output_type": "execute_result"
    }
   ],
   "source": [
    "anthropometric_backpack_trial=clean_backpack_trial.iloc[0:31,:]\n",
    "anthropometric_backpack_trial.shape"
   ]
  },
  {
   "cell_type": "code",
   "execution_count": 40,
   "metadata": {},
   "outputs": [
    {
     "data": {
      "text/plain": [
       "(26, 259)"
      ]
     },
     "execution_count": 40,
     "metadata": {},
     "output_type": "execute_result"
    }
   ],
   "source": [
    "anthropometric_backpack_trial=anthropometric_backpack_trial.iloc[5:].reset_index(drop=True)\n",
    "anthropometric_backpack_trial.shape"
   ]
  },
  {
   "cell_type": "code",
   "execution_count": 41,
   "metadata": {},
   "outputs": [],
   "source": [
    "anthropometric_backpack_trial=anthropometric_backpack_trial.dropna(axis=1,how='all').reset_index(drop=True)\n",
    "anthropometric_backpack_trial=anthropometric_backpack_trial.dropna(how='all').reset_index(drop=True)\n",
    "anthropometric_backpack_trial=anthropometric_backpack_trial.fillna(0)\n",
    "anthropometric_backpack_trial=anthropometric_backpack_trial.drop(index=[2,3,4,5,6,7,8,9,10,11,12,13,14]).reset_index(drop=True)\n",
    "anthropometric_backpack_trial.to_csv('anthropometric_backpack_trial.csv',index=False)"
   ]
  },
  {
   "cell_type": "code",
   "execution_count": 42,
   "metadata": {},
   "outputs": [],
   "source": [
    "# extract data from the walking static trial for all body segments\n",
    "data_backpack_trial=clean_backpack_trial.iloc[32:118].reset_index(drop=True)"
   ]
  },
  {
   "cell_type": "code",
   "execution_count": 43,
   "metadata": {},
   "outputs": [],
   "source": [
    "data_backpack_trial=data_backpack_trial.dropna(axis=1,how='all').reset_index(drop=True)\n",
    "data_backpack_trial=data_backpack_trial.dropna(how='all').reset_index(drop=True)\n",
    "data_backpack_trial=data_backpack_trial.fillna(0)\n"
   ]
  },
  {
   "cell_type": "code",
   "execution_count": 44,
   "metadata": {},
   "outputs": [],
   "source": [
    "for i in range(1, len(data_backpack_trial.columns)):\n",
    "    if data_backpack_trial.iloc[0, i] == 0:\n",
    "        data_backpack_trial.iloc[0, i] = data_backpack_trial.iloc[0, i-1]"
   ]
  },
  {
   "cell_type": "code",
   "execution_count": 45,
   "metadata": {},
   "outputs": [],
   "source": [
    "new_header = data_backpack_trial.iloc[:3].apply(lambda x: '_'.join(x.dropna().astype(str)), axis=0)\n",
    "data_backpack_trial.columns = new_header\n",
    "data_backpack_trial = data_backpack_trial.drop(index=[0, 1, 2]).reset_index(drop=True)\n",
    "data_backpack_trial.to_csv('data_backpack_trial.csv', index=False)\n",
    "\n",
    "\n"
   ]
  },
  {
   "cell_type": "code",
   "execution_count": 46,
   "metadata": {},
   "outputs": [],
   "source": [
    "# extract ground reaction forces data from the walking static trial for left and right foot \n",
    "GRF_backpack_trial=clean_backpack_trial.iloc[123:,:]\n",
    "GRF_backpack_trial=GRF_backpack_trial.dropna(axis=1,how='all').reset_index(drop=True)\n",
    "GRF_backpack_trial=GRF_backpack_trial.dropna(how='all').reset_index(drop=True)\n",
    "new_header=GRF_backpack_trial.iloc[0]\n",
    "GRF_backpack_trial.columns=new_header\n",
    "GRF_backpack_trial=GRF_backpack_trial.drop(index=[0]).reset_index(drop=True)\n",
    "GRF_backpack_trial=GRF_backpack_trial.dropna(axis=1,how='all').fillna(0)\n",
    "GRF_backpack_trial.to_csv('GRF_backpack_trial.csv',index=False)\n"
   ]
  },
  {
   "cell_type": "markdown",
   "metadata": {},
   "source": [
    "# Side pack static"
   ]
  },
  {
   "cell_type": "code",
   "execution_count": 47,
   "metadata": {},
   "outputs": [],
   "source": [
    "clean_sidepack_static=sidepack_static.dropna(how='all').reset_index(drop=True)\n",
    "clean_sidepack_static=clean_sidepack_static.dropna(axis=1,how='all').reset_index(drop=True)"
   ]
  },
  {
   "cell_type": "code",
   "execution_count": 48,
   "metadata": {},
   "outputs": [
    {
     "name": "stdout",
     "output_type": "stream",
     "text": [
      "(486, 259)\n",
      "(481, 259)\n"
     ]
    }
   ],
   "source": [
    "print(sidepack_static.shape)\n",
    "print(clean_sidepack_static.shape)"
   ]
  },
  {
   "cell_type": "code",
   "execution_count": 49,
   "metadata": {},
   "outputs": [
    {
     "data": {
      "text/plain": [
       "(31, 259)"
      ]
     },
     "execution_count": 49,
     "metadata": {},
     "output_type": "execute_result"
    }
   ],
   "source": [
    "anthropometric_sidepack_static=clean_sidepack_static.iloc[0:31,:]\n",
    "anthropometric_sidepack_static.shape"
   ]
  },
  {
   "cell_type": "code",
   "execution_count": 50,
   "metadata": {},
   "outputs": [
    {
     "data": {
      "text/plain": [
       "(26, 259)"
      ]
     },
     "execution_count": 50,
     "metadata": {},
     "output_type": "execute_result"
    }
   ],
   "source": [
    "anthropometric_sidepack_static=anthropometric_sidepack_static.iloc[5:].reset_index(drop=True)\n",
    "anthropometric_sidepack_static.shape"
   ]
  },
  {
   "cell_type": "code",
   "execution_count": 51,
   "metadata": {},
   "outputs": [],
   "source": [
    "anthropometric_sidepack_static=anthropometric_sidepack_static.dropna(axis=1,how='all').reset_index(drop=True)\n",
    "anthropometric_sidepack_static=anthropometric_sidepack_static.dropna(how='all').reset_index(drop=True)\n",
    "anthropometric_sidepack_static=anthropometric_sidepack_static.fillna(0)\n",
    "anthropometric_sidepack_static=anthropometric_sidepack_static.drop(index=[2,3,4,5,6,7,8,9,10,11,12,13,14]).reset_index(drop=True)\n",
    "anthropometric_sidepack_static.to_csv('anthropometric_sidepack_static.csv',index=False)"
   ]
  },
  {
   "cell_type": "code",
   "execution_count": 52,
   "metadata": {},
   "outputs": [],
   "source": [
    "# extract data from the walking static trial for all body segments\n",
    "data_sidepack_static=clean_sidepack_static.iloc[32:255].reset_index(drop=True)"
   ]
  },
  {
   "cell_type": "code",
   "execution_count": 53,
   "metadata": {},
   "outputs": [],
   "source": [
    "data_sidepack_static=data_sidepack_static.dropna(axis=1,how='all').reset_index(drop=True)\n",
    "data_sidepack_static=data_sidepack_static.dropna(how='all').reset_index(drop=True)\n",
    "data_sidepack_static=data_sidepack_static.fillna(0)\n"
   ]
  },
  {
   "cell_type": "code",
   "execution_count": 54,
   "metadata": {},
   "outputs": [],
   "source": [
    "for i in range(1, len(data_sidepack_static.columns)):\n",
    "    if data_sidepack_static.iloc[0, i] == 0:\n",
    "        data_sidepack_static.iloc[0, i] = data_sidepack_static.iloc[0, i-1]"
   ]
  },
  {
   "cell_type": "code",
   "execution_count": 55,
   "metadata": {},
   "outputs": [],
   "source": [
    "new_header = data_sidepack_static.iloc[:3].apply(lambda x: '_'.join(x.dropna().astype(str)), axis=0)\n",
    "data_sidepack_static.columns = new_header\n",
    "data_sidepack_static = data_sidepack_static.drop(index=[0, 1, 2]).reset_index(drop=True)\n",
    "data_sidepack_static.to_csv('data_sidepack_static.csv', index=False)\n",
    "\n"
   ]
  },
  {
   "cell_type": "code",
   "execution_count": 56,
   "metadata": {},
   "outputs": [],
   "source": [
    "# extract ground reaction forces data from the walking static trial for left and right foot \n",
    "GRF_sidepack_static=clean_sidepack_static.iloc[260:,:]\n",
    "GRF_sidepack_static=GRF_sidepack_static.dropna(axis=1,how='all').reset_index(drop=True)\n",
    "GRF_sidepack_static=GRF_sidepack_static.dropna(how='all').reset_index(drop=True)\n",
    "new_header=GRF_sidepack_static.iloc[0]\n",
    "GRF_sidepack_static.columns=new_header\n",
    "GRF_sidepack_static=GRF_sidepack_static.drop(index=[0]).reset_index(drop=True)\n",
    "GRF_sidepack_static=GRF_sidepack_static.dropna(axis=1,how='all').fillna(0)\n",
    "GRF_sidepack_static.to_csv('GRF_sidepack_static.csv',index=False)\n"
   ]
  },
  {
   "cell_type": "markdown",
   "metadata": {},
   "source": [
    "# Side pack walking"
   ]
  },
  {
   "cell_type": "code",
   "execution_count": 57,
   "metadata": {},
   "outputs": [],
   "source": [
    "clean_sidepack_trial=sidepack_trial.dropna(how='all').reset_index(drop=True)\n",
    "clean_sidepack_trial=clean_sidepack_trial.dropna(axis=1,how='all').reset_index(drop=True)"
   ]
  },
  {
   "cell_type": "code",
   "execution_count": 58,
   "metadata": {},
   "outputs": [
    {
     "name": "stdout",
     "output_type": "stream",
     "text": [
      "(210, 259)\n",
      "(205, 259)\n"
     ]
    }
   ],
   "source": [
    "print(sidepack_trial.shape)\n",
    "print(clean_sidepack_trial.shape)"
   ]
  },
  {
   "cell_type": "code",
   "execution_count": 59,
   "metadata": {},
   "outputs": [
    {
     "data": {
      "text/plain": [
       "(31, 259)"
      ]
     },
     "execution_count": 59,
     "metadata": {},
     "output_type": "execute_result"
    }
   ],
   "source": [
    "anthropometric_sidepack_trial=clean_sidepack_trial.iloc[0:31,:]\n",
    "anthropometric_sidepack_trial.shape"
   ]
  },
  {
   "cell_type": "code",
   "execution_count": 60,
   "metadata": {},
   "outputs": [
    {
     "data": {
      "text/plain": [
       "(26, 259)"
      ]
     },
     "execution_count": 60,
     "metadata": {},
     "output_type": "execute_result"
    }
   ],
   "source": [
    "anthropometric_sidepack_trial=anthropometric_sidepack_trial.iloc[5:].reset_index(drop=True)\n",
    "anthropometric_sidepack_trial.shape"
   ]
  },
  {
   "cell_type": "code",
   "execution_count": 61,
   "metadata": {},
   "outputs": [],
   "source": [
    "anthropometric_sidepack_trial=anthropometric_sidepack_trial.dropna(axis=1,how='all').reset_index(drop=True)\n",
    "anthropometric_sidepack_trial=anthropometric_sidepack_trial.dropna(how='all').reset_index(drop=True)\n",
    "anthropometric_sidepack_trial=anthropometric_sidepack_trial.fillna(0)\n",
    "anthropometric_sidepack_trial=anthropometric_sidepack_trial.drop(index=[2,3,4,5,6,7,8,9,10,11,12,13,14]).reset_index(drop=True)\n",
    "anthropometric_sidepack_trial.to_csv('anthropometric_sidepack_trial.csv',index=False)"
   ]
  },
  {
   "cell_type": "code",
   "execution_count": 62,
   "metadata": {},
   "outputs": [],
   "source": [
    "# extract data from the walking static trial for all body segments\n",
    "data_sidepack_trial=clean_sidepack_trial.iloc[32:116].reset_index(drop=True)"
   ]
  },
  {
   "cell_type": "code",
   "execution_count": 63,
   "metadata": {},
   "outputs": [],
   "source": [
    "data_sidepack_trial=data_sidepack_trial.dropna(axis=1,how='all').reset_index(drop=True)\n",
    "data_sidepack_trial=data_sidepack_trial.dropna(how='all').reset_index(drop=True)\n",
    "data_sidepack_trial=data_sidepack_trial.fillna(0)\n"
   ]
  },
  {
   "cell_type": "code",
   "execution_count": 64,
   "metadata": {},
   "outputs": [],
   "source": [
    "for i in range(1, len(data_sidepack_trial.columns)):\n",
    "    if data_sidepack_trial.iloc[0, i] == 0:\n",
    "        data_sidepack_trial.iloc[0, i] = data_sidepack_trial.iloc[0, i-1]"
   ]
  },
  {
   "cell_type": "code",
   "execution_count": 65,
   "metadata": {},
   "outputs": [],
   "source": [
    "new_header = data_sidepack_trial.iloc[:3].apply(lambda x: '_'.join(x.dropna().astype(str)), axis=0)\n",
    "data_sidepack_trial.columns = new_header\n",
    "data_sidepack_trial = data_sidepack_trial.drop(index=[0, 1, 2]).reset_index(drop=True)\n",
    "data_sidepack_trial.to_csv('data_sidepack_trial.csv', index=False)\n",
    "\n"
   ]
  },
  {
   "cell_type": "code",
   "execution_count": 66,
   "metadata": {},
   "outputs": [],
   "source": [
    "# extract ground reaction forces data from the walking static trial for left and right foot \n",
    "GRF_sidepack_trial=clean_sidepack_trial.iloc[122:,:]\n",
    "GRF_sidepack_trial=GRF_sidepack_trial.dropna(axis=1,how='all').reset_index(drop=True)\n",
    "GRF_sidepack_trial=GRF_sidepack_trial.dropna(how='all').reset_index(drop=True)\n",
    "new_header=GRF_sidepack_trial.iloc[0]\n",
    "GRF_sidepack_trial.columns=new_header\n",
    "GRF_sidepack_trial=GRF_sidepack_trial.drop(index=[0]).reset_index(drop=True)\n",
    "GRF_sidepack_trial=GRF_sidepack_trial.dropna(axis=1,how='all').fillna(0)\n",
    "GRF_sidepack_trial.to_csv('GRF_sidepack_trial.csv',index=False)\n"
   ]
  },
  {
   "cell_type": "code",
   "execution_count": null,
   "metadata": {},
   "outputs": [],
   "source": []
  }
 ],
 "metadata": {
  "kernelspec": {
   "display_name": "Python 3",
   "language": "python",
   "name": "python3"
  },
  "language_info": {
   "codemirror_mode": {
    "name": "ipython",
    "version": 3
   },
   "file_extension": ".py",
   "mimetype": "text/x-python",
   "name": "python",
   "nbconvert_exporter": "python",
   "pygments_lexer": "ipython3",
   "version": "3.8.10"
  }
 },
 "nbformat": 4,
 "nbformat_minor": 2
}
